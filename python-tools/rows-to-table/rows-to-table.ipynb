{
 "cells": [
  {
   "cell_type": "code",
   "execution_count": 7,
   "metadata": {},
   "outputs": [],
   "source": [
    "# imports\n",
    "import os\n",
    "import datetime\n"
   ]
  },
  {
   "cell_type": "code",
   "execution_count": 8,
   "metadata": {},
   "outputs": [],
   "source": [
    "def get_data_from_file(path):\n",
    "    with open(path, 'r', encoding='utf-8') as f:\n",
    "        data = f.read().split('\\n')\n",
    "        return data\n"
   ]
  },
  {
   "cell_type": "code",
   "execution_count": 9,
   "metadata": {},
   "outputs": [],
   "source": [
    "def get_table_from_data(data, num_of_columns):\n",
    "    table = []\n",
    "    for i in range(0, len(data), num_of_columns):\n",
    "        table.append(data[i:i+num_of_columns])\n",
    "    return table\n"
   ]
  },
  {
   "cell_type": "code",
   "execution_count": 10,
   "metadata": {},
   "outputs": [],
   "source": [
    "def remove_empty_rows(table):\n",
    "    table_without_empty_rows = []\n",
    "    for row in table:\n",
    "        if row[0] != '':\n",
    "            table_without_empty_rows.append(row)\n",
    "    return table_without_empty_rows\n"
   ]
  },
  {
   "cell_type": "code",
   "execution_count": 11,
   "metadata": {},
   "outputs": [],
   "source": [
    "def save_table_to_csv(table, filename, delimiter=';'):\n",
    "    try:\n",
    "        now = datetime.datetime.now().strftime(\"%Y-%m-%d-%H-%M-%S\")\n",
    "        filepath = f'{filename}_{now}.csv'\n",
    "        with open(filepath, 'w', encoding='utf-8') as f:\n",
    "            for row in table:\n",
    "                for i in range(0, len(row)):\n",
    "                    f.write(f'{row[i]}')\n",
    "                    if (i < len(row) - 1):\n",
    "                        f.write(delimiter)\n",
    "                f.write('\\n')\n",
    "    except Exception as e:\n",
    "        print(f'Error: {e}')"
   ]
  },
  {
   "cell_type": "code",
   "execution_count": 12,
   "metadata": {},
   "outputs": [],
   "source": [
    "# data.txt is in the same folder as this notebook\n",
    "data = get_data_from_file('data.txt')\n",
    "table = get_table_from_data(data, 6)  # 6 is the number of columns in the table\n",
    "clean_table = remove_empty_rows(table)\n",
    "save_table_to_csv(clean_table, 'table')  # save the table to a csv file\n"
   ]
  }
 ],
 "metadata": {
  "kernelspec": {
   "display_name": "Python 3",
   "language": "python",
   "name": "python3"
  },
  "language_info": {
   "codemirror_mode": {
    "name": "ipython",
    "version": 3
   },
   "file_extension": ".py",
   "mimetype": "text/x-python",
   "name": "python",
   "nbconvert_exporter": "python",
   "pygments_lexer": "ipython3",
   "version": "3.11.3"
  },
  "orig_nbformat": 4
 },
 "nbformat": 4,
 "nbformat_minor": 2
}
